{
 "cells": [
  {
   "cell_type": "markdown",
   "metadata": {},
   "source": [
    "# Joining and Appending DataFrames in PySpark HW\n",
    "\n",
    "Now it's time to test your knowledge and further engrain the concepts we touched on in the lectures. Let's go ahead and get started.\n",
    "\n",
    "\n",
    "\n",
    "\n",
    "**As always let's start our Spark instance.**"
   ]
  },
  {
   "cell_type": "code",
   "execution_count": 73,
   "metadata": {
    "tags": []
   },
   "outputs": [
    {
     "name": "stdout",
     "output_type": "stream",
     "text": [
      "You are working with 1 core(s)\n"
     ]
    },
    {
     "data": {
      "text/html": [
       "\n",
       "            <div>\n",
       "                <p><b>SparkSession - in-memory</b></p>\n",
       "                \n",
       "        <div>\n",
       "            <p><b>SparkContext</b></p>\n",
       "\n",
       "            <p><a href=\"http://DESKTOP-G78FOJQ.sctvnet.vn:4041\">Spark UI</a></p>\n",
       "\n",
       "            <dl>\n",
       "              <dt>Version</dt>\n",
       "                <dd><code>v3.5.0</code></dd>\n",
       "              <dt>Master</dt>\n",
       "                <dd><code>local[*]</code></dd>\n",
       "              <dt>AppName</dt>\n",
       "                <dd><code>joins</code></dd>\n",
       "            </dl>\n",
       "        </div>\n",
       "        \n",
       "            </div>\n",
       "        "
      ],
      "text/plain": [
       "<pyspark.sql.session.SparkSession at 0x20de5e9f750>"
      ]
     },
     "execution_count": 73,
     "metadata": {},
     "output_type": "execute_result"
    }
   ],
   "source": [
    "import findspark\n",
    "findspark.init()\n",
    "\n",
    "import pyspark # only run after findspark.init()\n",
    "from pyspark.sql import SparkSession\n",
    "# May take awhile locally\n",
    "spark = SparkSession.builder.appName(\"joins\").getOrCreate()\n",
    "\n",
    "cores = spark._jsc.sc().getExecutorMemoryStatus().keySet().size()\n",
    "print(\"You are working with\", cores, \"core(s)\")\n",
    "spark"
   ]
  },
  {
   "cell_type": "markdown",
   "metadata": {},
   "source": [
    "## Read in the database\n",
    "\n",
    "Let cotinue working with our college courses dataframe to get some more insights and practice what we have learned!Let's read in the whole database using the loop function that we learned about in the lecture to automatically read in all the datasets from the uw-madision-courses folder (there are too many datasets to each one individually."
   ]
  },
  {
   "cell_type": "code",
   "execution_count": 74,
   "metadata": {
    "tags": []
   },
   "outputs": [
    {
     "name": "stdout",
     "output_type": "stream",
     "text": [
      "Full list of dfs:\n",
      "['courses', 'course_offerings', 'grade_distributions', 'instructors', 'rooms', 'schedules', 'sections', 'subjects', 'subject_memberships', 'teachings']\n"
     ]
    }
   ],
   "source": [
    "import os\n",
    "\n",
    "path = \"C:/Users/datnh/Documents/Data Analysis/7th week/uw-madison-courses/\"\n",
    "\n",
    "df_list = []\n",
    "dataframes = []\n",
    "for filename in os.listdir(path):\n",
    "    if filename.endswith(\".csv\"):\n",
    "        filename_list = filename.split(\".\") #separate path from .csv\n",
    "        df_name = filename_list[0]\n",
    "        df = spark.read.csv(path+filename,inferSchema=True,header=True)\n",
    "        df.name = df_name\n",
    "        df_list.append(df_name)\n",
    "        dataframes.append(df)\n",
    "        exec(df_name + ' = df')\n",
    "        \n",
    "# QA\n",
    "print(\"Full list of dfs:\")\n",
    "print(df_list)"
   ]
  },
  {
   "cell_type": "markdown",
   "metadata": {},
   "source": [
    "Now check the contents of a few of the dataframses that were read in above."
   ]
  },
  {
   "cell_type": "code",
   "execution_count": 55,
   "metadata": {
    "tags": []
   },
   "outputs": [
    {
     "data": {
      "text/html": [
       "<div>\n",
       "<style scoped>\n",
       "    .dataframe tbody tr th:only-of-type {\n",
       "        vertical-align: middle;\n",
       "    }\n",
       "\n",
       "    .dataframe tbody tr th {\n",
       "        vertical-align: top;\n",
       "    }\n",
       "\n",
       "    .dataframe thead th {\n",
       "        text-align: right;\n",
       "    }\n",
       "</style>\n",
       "<table border=\"1\" class=\"dataframe\">\n",
       "  <thead>\n",
       "    <tr style=\"text-align: right;\">\n",
       "      <th></th>\n",
       "      <th>uuid</th>\n",
       "      <th>course_uuid</th>\n",
       "      <th>term_code</th>\n",
       "      <th>name</th>\n",
       "    </tr>\n",
       "  </thead>\n",
       "  <tbody>\n",
       "    <tr>\n",
       "      <th>0</th>\n",
       "      <td>344b3ebe-da7e-314c-83ed-9425269695fd</td>\n",
       "      <td>a3e3e1c3-543d-3bb5-ae65-5f2aec4ad1de</td>\n",
       "      <td>1092</td>\n",
       "      <td>Cooperative Education Prog</td>\n",
       "    </tr>\n",
       "    <tr>\n",
       "      <th>1</th>\n",
       "      <td>f718e6cd-33f0-3c14-a9a6-834d9c3610a8</td>\n",
       "      <td>a3e3e1c3-543d-3bb5-ae65-5f2aec4ad1de</td>\n",
       "      <td>1082</td>\n",
       "      <td>Cooperative Education Prog</td>\n",
       "    </tr>\n",
       "    <tr>\n",
       "      <th>2</th>\n",
       "      <td>ea3b717c-d66b-30dc-8b37-964d9688295f</td>\n",
       "      <td>a3e3e1c3-543d-3bb5-ae65-5f2aec4ad1de</td>\n",
       "      <td>1172</td>\n",
       "      <td>Cooperative Education Prog</td>\n",
       "    </tr>\n",
       "    <tr>\n",
       "      <th>3</th>\n",
       "      <td>075da420-5f49-3dd0-93df-13e3c152e1b1</td>\n",
       "      <td>a3e3e1c3-543d-3bb5-ae65-5f2aec4ad1de</td>\n",
       "      <td>1114</td>\n",
       "      <td>Cooperative Education Prog</td>\n",
       "    </tr>\n",
       "    <tr>\n",
       "      <th>4</th>\n",
       "      <td>2b4e216d-a728-3713-8c7c-19afffc6b2fd</td>\n",
       "      <td>a3e3e1c3-543d-3bb5-ae65-5f2aec4ad1de</td>\n",
       "      <td>1104</td>\n",
       "      <td>Cooperative Education Prog</td>\n",
       "    </tr>\n",
       "    <tr>\n",
       "      <th>...</th>\n",
       "      <td>...</td>\n",
       "      <td>...</td>\n",
       "      <td>...</td>\n",
       "      <td>...</td>\n",
       "    </tr>\n",
       "    <tr>\n",
       "      <th>81447</th>\n",
       "      <td>3573e335-e7be-33a6-b023-8704b3acc93b</td>\n",
       "      <td>4a7f3d9d-f2e5-3df2-8dee-2c2d02ed9098</td>\n",
       "      <td>1182</td>\n",
       "      <td>Conservation Planning</td>\n",
       "    </tr>\n",
       "    <tr>\n",
       "      <th>81448</th>\n",
       "      <td>5d437083-a1d0-38b8-aa70-ec3564da39a6</td>\n",
       "      <td>1220244c-2bbf-3169-8eb0-6a2da36f40f6</td>\n",
       "      <td>1182</td>\n",
       "      <td>null</td>\n",
       "    </tr>\n",
       "    <tr>\n",
       "      <th>81449</th>\n",
       "      <td>13278922-0726-3823-abda-dc14df03d8a6</td>\n",
       "      <td>516f637c-a244-3df0-ba3f-f11ce650543d</td>\n",
       "      <td>1182</td>\n",
       "      <td>Patient Ed. as Advocacy Strat.</td>\n",
       "    </tr>\n",
       "    <tr>\n",
       "      <th>81450</th>\n",
       "      <td>fd039fe4-32ec-31dd-a142-c7db54df784b</td>\n",
       "      <td>fbe0838f-9469-3d83-ad85-91ba5aabd1a3</td>\n",
       "      <td>1182</td>\n",
       "      <td>Multid. Appr. to Colon Cancer</td>\n",
       "    </tr>\n",
       "    <tr>\n",
       "      <th>81451</th>\n",
       "      <td>4e151e41-fdfb-3176-a96a-bec0715492a3</td>\n",
       "      <td>1b17abd5-39f9-3a2c-8eda-a88bf1871221</td>\n",
       "      <td>1182</td>\n",
       "      <td>null</td>\n",
       "    </tr>\n",
       "  </tbody>\n",
       "</table>\n",
       "<p>81452 rows × 4 columns</p>\n",
       "</div>"
      ],
      "text/plain": [
       "                                       uuid  \\\n",
       "0      344b3ebe-da7e-314c-83ed-9425269695fd   \n",
       "1      f718e6cd-33f0-3c14-a9a6-834d9c3610a8   \n",
       "2      ea3b717c-d66b-30dc-8b37-964d9688295f   \n",
       "3      075da420-5f49-3dd0-93df-13e3c152e1b1   \n",
       "4      2b4e216d-a728-3713-8c7c-19afffc6b2fd   \n",
       "...                                     ...   \n",
       "81447  3573e335-e7be-33a6-b023-8704b3acc93b   \n",
       "81448  5d437083-a1d0-38b8-aa70-ec3564da39a6   \n",
       "81449  13278922-0726-3823-abda-dc14df03d8a6   \n",
       "81450  fd039fe4-32ec-31dd-a142-c7db54df784b   \n",
       "81451  4e151e41-fdfb-3176-a96a-bec0715492a3   \n",
       "\n",
       "                                course_uuid  term_code  \\\n",
       "0      a3e3e1c3-543d-3bb5-ae65-5f2aec4ad1de       1092   \n",
       "1      a3e3e1c3-543d-3bb5-ae65-5f2aec4ad1de       1082   \n",
       "2      a3e3e1c3-543d-3bb5-ae65-5f2aec4ad1de       1172   \n",
       "3      a3e3e1c3-543d-3bb5-ae65-5f2aec4ad1de       1114   \n",
       "4      a3e3e1c3-543d-3bb5-ae65-5f2aec4ad1de       1104   \n",
       "...                                     ...        ...   \n",
       "81447  4a7f3d9d-f2e5-3df2-8dee-2c2d02ed9098       1182   \n",
       "81448  1220244c-2bbf-3169-8eb0-6a2da36f40f6       1182   \n",
       "81449  516f637c-a244-3df0-ba3f-f11ce650543d       1182   \n",
       "81450  fbe0838f-9469-3d83-ad85-91ba5aabd1a3       1182   \n",
       "81451  1b17abd5-39f9-3a2c-8eda-a88bf1871221       1182   \n",
       "\n",
       "                                 name  \n",
       "0          Cooperative Education Prog  \n",
       "1          Cooperative Education Prog  \n",
       "2          Cooperative Education Prog  \n",
       "3          Cooperative Education Prog  \n",
       "4          Cooperative Education Prog  \n",
       "...                               ...  \n",
       "81447           Conservation Planning  \n",
       "81448                            null  \n",
       "81449  Patient Ed. as Advocacy Strat.  \n",
       "81450   Multid. Appr. to Colon Cancer  \n",
       "81451                            null  \n",
       "\n",
       "[81452 rows x 4 columns]"
      ]
     },
     "execution_count": 55,
     "metadata": {},
     "output_type": "execute_result"
    }
   ],
   "source": [
    "dataframes[1].toPandas()"
   ]
  },
  {
   "cell_type": "markdown",
   "metadata": {},
   "source": [
    "## Recap: About this database\n",
    "\n",
    "You will notice that there are several more tables in the uw-madision-courses folder than there are read in above. This so that you will have a chance to practice your own custom joins and learn about the relationships between a real database work. Sometimes we don't know how they are related and we need to figure it out! I'll save that for the HW :) \n",
    "\n",
    "Here is a look at some of the important variables we can use to join our tables:\n",
    "\n",
    " - course_offerings: uuid, course_uuid, term_code, name\n",
    " - instructors: id, name\n",
    " - schedules: uuid\n",
    " - sections: uuid, course_offering_uuid,room_uuid, schedule_uuid\n",
    " - teachings: instructor_id, section_uuid\n",
    " - courses: uuid\n",
    " - grade_distributions: course_offering_uuid,section_number\n",
    " - rooms: uuid, facility_code, room_code\n",
    " - subjects: code\n",
    " - subject_memberships: subject_code, course_offering_uuid\n",
    " \n",
    " **Source:** https://www.kaggle.com/Madgrades/uw-madison-courses\n",
    " \n",
    "So alright, let's use this information to discover some insights from this data!"
   ]
  },
  {
   "cell_type": "markdown",
   "metadata": {},
   "source": [
    "## 1a. Can you assign the room numbers to each section of each course?\n",
    "\n",
    "Show only the rooms uuid, facility code, room number, term code and the name of the course from the course_offerings table."
   ]
  },
  {
   "cell_type": "code",
   "execution_count": 85,
   "metadata": {
    "tags": []
   },
   "outputs": [],
   "source": [
    "rooms = dataframes[4]\n",
    "sections = dataframes[6]\n",
    "course_offerings = dataframes[1]\n",
    "\n",
    "\n",
    "sections_with_rooms = sections.join(rooms, sections.room_uuid == rooms.uuid)\n",
    "sections_with_rooms_and_courses = sections_with_rooms.join(course_offerings, sections_with_rooms.course_offering_uuid == course_offerings.uuid)\n",
    "# sections_with_rooms_and_courses.toPandas()\n",
    "\n",
    "\n",
    "result = sections_with_rooms_and_courses.select(\"room_uuid\", \"facility_code\", \"number\", \"term_code\", \"name\")\n"
   ]
  },
  {
   "cell_type": "code",
   "execution_count": 81,
   "metadata": {
    "tags": []
   },
   "outputs": [
    {
     "name": "stdout",
     "output_type": "stream",
     "text": [
      "+--------------------+-------------+------+---------+--------------------+\n",
      "|           room_uuid|facility_code|number|term_code|                name|\n",
      "+--------------------+-------------+------+---------+--------------------+\n",
      "|04368a56-c959-3e4...|   OFF CAMPUS|     1|     1172|Cooperative Educa...|\n",
      "|04368a56-c959-3e4...|   OFF CAMPUS|     1|     1172|Cooperative Educa...|\n",
      "|04368a56-c959-3e4...|   OFF CAMPUS|     1|     1114|Cooperative Educa...|\n",
      "|04368a56-c959-3e4...|   OFF CAMPUS|     1|     1104|Cooperative Educa...|\n",
      "|04368a56-c959-3e4...|   OFF CAMPUS|     1|     1134|Cooperative Educa...|\n",
      "|04368a56-c959-3e4...|   OFF CAMPUS|     1|     1134|Cooperative Educa...|\n",
      "|04368a56-c959-3e4...|   OFF CAMPUS|     1|     1084|Cooperative Educa...|\n",
      "|04368a56-c959-3e4...|   OFF CAMPUS|     1|     1154|Cooperative Educa...|\n",
      "|04368a56-c959-3e4...|   OFF CAMPUS|     1|     1154|Cooperative Educa...|\n",
      "|04368a56-c959-3e4...|   OFF CAMPUS|     1|     1162|Cooperative Educa...|\n",
      "|04368a56-c959-3e4...|   OFF CAMPUS|     1|     1162|Cooperative Educa...|\n",
      "|04368a56-c959-3e4...|   OFF CAMPUS|     1|     1162|Cooperative Educa...|\n",
      "|04368a56-c959-3e4...|   OFF CAMPUS|     1|     1142|Cooperative Educa...|\n",
      "|04368a56-c959-3e4...|   OFF CAMPUS|     1|     1142|Cooperative Educa...|\n",
      "|04368a56-c959-3e4...|   OFF CAMPUS|     1|     1152|Cooperative Educa...|\n",
      "|04368a56-c959-3e4...|   OFF CAMPUS|     1|     1152|Cooperative Educa...|\n",
      "|04368a56-c959-3e4...|   OFF CAMPUS|     1|     1152|Cooperative Educa...|\n",
      "|04368a56-c959-3e4...|   OFF CAMPUS|     1|     1144|Cooperative Educa...|\n",
      "|04368a56-c959-3e4...|   OFF CAMPUS|     1|     1144|Cooperative Educa...|\n",
      "|04368a56-c959-3e4...|   OFF CAMPUS|     1|     1094|Cooperative Educa...|\n",
      "+--------------------+-------------+------+---------+--------------------+\n",
      "only showing top 20 rows\n",
      "\n"
     ]
    }
   ],
   "source": [
    "result.show()"
   ]
  },
  {
   "cell_type": "markdown",
   "metadata": {},
   "source": [
    "## 1b. Now show same output as above but for only facility number 0469 (facility_code)"
   ]
  },
  {
   "cell_type": "code",
   "execution_count": 82,
   "metadata": {
    "tags": []
   },
   "outputs": [
    {
     "name": "stdout",
     "output_type": "stream",
     "text": [
      "+--------------------+-------------+------+---------+--------------------+\n",
      "|           room_uuid|facility_code|number|term_code|                name|\n",
      "+--------------------+-------------+------+---------+--------------------+\n",
      "|9759cb5f-a7d3-3d0...|         0469|     1|     1152|  Fundamentals-Flute|\n",
      "|9759cb5f-a7d3-3d0...|         0469|     1|     1092|  Fundamentals-Flute|\n",
      "|6af80b0b-b3e3-370...|         0469|     1|     1172|  Fundamentals-Flute|\n",
      "|9759cb5f-a7d3-3d0...|         0469|     1|     1162|  Fundamentals-Flute|\n",
      "|9759cb5f-a7d3-3d0...|         0469|     1|     1132|  Fundamentals-Flute|\n",
      "|50322d30-dd8f-3c6...|         0469|     1|     1072|  Fundamentals-Flute|\n",
      "|9759cb5f-a7d3-3d0...|         0469|     1|     1142|  Fundamentals-Flute|\n",
      "|9759cb5f-a7d3-3d0...|         0469|     1|     1112|  Fundamentals-Flute|\n",
      "|9759cb5f-a7d3-3d0...|         0469|     1|     1102|  Fundamentals-Flute|\n",
      "|50322d30-dd8f-3c6...|         0469|     1|     1082|  Fundamentals-Flute|\n",
      "|9759cb5f-a7d3-3d0...|         0469|     1|     1122|  Fundamentals-Flute|\n",
      "|9759cb5f-a7d3-3d0...|         0469|     1|     1182|  Fundamentals-Flute|\n",
      "|9759cb5f-a7d3-3d0...|         0469|     1|     1172|Fundamentals: Sin...|\n",
      "|9759cb5f-a7d3-3d0...|         0469|     1|     1172|Fundamentals: Sin...|\n",
      "|9759cb5f-a7d3-3d0...|         0469|     1|     1152|Fundamentals: Sin...|\n",
      "|9759cb5f-a7d3-3d0...|         0469|     1|     1152|Fundamentals: Sin...|\n",
      "|9759cb5f-a7d3-3d0...|         0469|     1|     1072|Fundamentals: Sin...|\n",
      "|9759cb5f-a7d3-3d0...|         0469|     1|     1072|Fundamentals: Sin...|\n",
      "|9759cb5f-a7d3-3d0...|         0469|     1|     1122|Fundamentals: Sin...|\n",
      "|9759cb5f-a7d3-3d0...|         0469|     1|     1102|Fundamentals: Sin...|\n",
      "+--------------------+-------------+------+---------+--------------------+\n",
      "only showing top 20 rows\n",
      "\n"
     ]
    }
   ],
   "source": [
    "result_filtered = result.filter(result.facility_code == '0469')\n",
    "result_filtered.show()\n"
   ]
  },
  {
   "cell_type": "markdown",
   "metadata": {},
   "source": [
    "## 2. Count how many sections are offered for each subject for each facility\n",
    "\n",
    "*Note: this will involve a groupby*\n"
   ]
  },
  {
   "cell_type": "code",
   "execution_count": 86,
   "metadata": {
    "tags": []
   },
   "outputs": [
    {
     "name": "stdout",
     "output_type": "stream",
     "text": [
      "+-------------+------------+-----+\n",
      "|facility_code|subject_code|count|\n",
      "+-------------+------------+-----+\n",
      "|         0400|         270|  722|\n",
      "|         0054|         900|   25|\n",
      "|         0084|         120|    3|\n",
      "|         0056|         184|   94|\n",
      "|         0055|         424|    6|\n",
      "|         0560|         900|   10|\n",
      "|         0048|         424|   20|\n",
      "|         0046|         888|   53|\n",
      "|         0050|         754|   59|\n",
      "|         0402|         778|  213|\n",
      "|        0451C|         502|    2|\n",
      "|         1243|         352|    4|\n",
      "|         0140|         778|  125|\n",
      "|         0047|         736|   19|\n",
      "|         0050|         963|   21|\n",
      "|         0557|         502|    5|\n",
      "|         0508|         252|  648|\n",
      "|         0054|         208| 1760|\n",
      "|         0056|         208|   26|\n",
      "|         0469|         736| 1296|\n",
      "+-------------+------------+-----+\n",
      "only showing top 20 rows\n",
      "\n"
     ]
    }
   ],
   "source": [
    "subjects = dataframes[8]\n",
    "result2 = sections_with_rooms_and_courses.join(subjects, subjects.course_offering_uuid == sections_with_rooms_and_courses.course_offering_uuid)\n",
    "result2.groupBy(\"facility_code\", \"subject_code\").count().show()\n"
   ]
  },
  {
   "cell_type": "code",
   "execution_count": null,
   "metadata": {},
   "outputs": [],
   "source": []
  },
  {
   "cell_type": "markdown",
   "metadata": {},
   "source": [
    "## 3. What are the hardest classes?\n",
    "\n",
    "Let's see if we can figure out which classes are the hardest by seeing how many students failed. Note that you will first need to aggregate the grades table by the course uuid to include all sections. Show the name of the course as well that you will need to get from the course_offering table."
   ]
  },
  {
   "cell_type": "code",
   "execution_count": 89,
   "metadata": {
    "tags": []
   },
   "outputs": [],
   "source": [
    "grades_distro = dataframes[6]"
   ]
  },
  {
   "cell_type": "code",
   "execution_count": 96,
   "metadata": {
    "tags": []
   },
   "outputs": [],
   "source": [
    "result3 = grades_distro.join(course_offerings, grades_distro.course_offering_uuid == course_offerings.uuid)\n",
    "result3_pd = result3.toPandas()\n",
    "max_value = result3_pd['number'].max()\n",
    "\n",
    "result_filtered_2 = result3_pd[result3_pd['number'] == max_value]"
   ]
  },
  {
   "cell_type": "code",
   "execution_count": 102,
   "metadata": {
    "tags": []
   },
   "outputs": [
    {
     "name": "stdout",
     "output_type": "stream",
     "text": [
      "Chemical Principles I\n"
     ]
    }
   ],
   "source": [
    "print(result_filtered_2.name.iloc[0])"
   ]
  },
  {
   "cell_type": "markdown",
   "metadata": {},
   "source": [
    "## Challenge Question: Automating data entry errors\n",
    "\n",
    "We see in the dataframe below that there are several typos of various animal names. If this was a large database of several millions of records, correcting these errors would be way too labor intensive. How can we automate correcting these errors?\n",
    "\n",
    "*Hint: Leven...*"
   ]
  },
  {
   "cell_type": "code",
   "execution_count": 42,
   "metadata": {
    "tags": []
   },
   "outputs": [
    {
     "name": "stdout",
     "output_type": "stream",
     "text": [
      "+------------+---+\n",
      "|      Animal|age|\n",
      "+------------+---+\n",
      "|      Monkey| 10|\n",
      "|      Monkay| 36|\n",
      "|        Mnky|123|\n",
      "|    Elephant| 48|\n",
      "|     Elefant| 16|\n",
      "|    Ellafant|  1|\n",
      "|Hippopotamus| 48|\n",
      "| Hipopotamus| 16|\n",
      "|       Hippo|  1|\n",
      "+------------+---+\n",
      "\n"
     ]
    }
   ],
   "source": [
    "values = [('Monkey',10),('Monkay',36),('Mnky',123), \\\n",
    "          ('Elephant',48),('Elefant',16),('Ellafant',1), \\\n",
    "          ('Hippopotamus',48),('Hipopotamus',16),('Hippo',1)]\n",
    "zoo = spark.createDataFrame(values,['Animal','age'])\n",
    "zoo.show()"
   ]
  },
  {
   "cell_type": "code",
   "execution_count": 45,
   "metadata": {
    "tags": []
   },
   "outputs": [
    {
     "name": "stdout",
     "output_type": "stream",
     "text": [
      "+------------+---+----------------+\n",
      "|      Animal|age|Corrected_Animal|\n",
      "+------------+---+----------------+\n",
      "|      Monkey| 10|          Monkey|\n",
      "|      Monkay| 36|          Monkey|\n",
      "|        Mnky|123|          Monkey|\n",
      "|    Elephant| 48|        Elephant|\n",
      "|     Elefant| 16|        Elephant|\n",
      "|    Ellafant|  1|        Elephant|\n",
      "|Hippopotamus| 48|    Hippopotamus|\n",
      "| Hipopotamus| 16|    Hippopotamus|\n",
      "|       Hippo|  1|           Hippo|\n",
      "+------------+---+----------------+\n",
      "\n"
     ]
    }
   ],
   "source": [
    "from pyspark.sql import SparkSession\n",
    "from pyspark.sql.functions import col, levenshtein, when\n",
    "\n",
    "# Create SparkSession\n",
    "spark = SparkSession.builder \\\n",
    "    .appName(\"Typos Correction\") \\\n",
    "    .getOrCreate()\n",
    "\n",
    "# Original data\n",
    "values = [('Monkey', 10), ('Monkay', 36), ('Mnky', 123),\n",
    "          ('Elephant', 48), ('Elefant', 16), ('Ellafant', 1),\n",
    "          ('Hippopotamus', 48), ('Hipopotamus', 16), ('Hippo', 1)]\n",
    "\n",
    "# Create DataFrame\n",
    "zoo = spark.createDataFrame(values, ['Animal', 'age'])\n",
    "\n",
    "# Define correct spellings\n",
    "corrections = {\n",
    "    'Monkay': 'Monkey',\n",
    "    'Mnky': 'Monkey',\n",
    "    'Elefant': 'Elephant',\n",
    "    'Ellafant': 'Elephant',\n",
    "    'Hipopotamus': 'Hippopotamus'\n",
    "}\n",
    "\n",
    "# Create DataFrame for corrections\n",
    "corrections_df = spark.createDataFrame(list(corrections.items()), ['typo', 'correction'])\n",
    "\n",
    "# Join original DataFrame with corrections based on Levenshtein distance\n",
    "zoo_corrected = zoo.join(corrections_df, levenshtein(zoo.Animal, corrections_df.typo) < 2, 'left_outer') \\\n",
    "                   .withColumn('Corrected_Animal',when(col('correction').isNull(), col('Animal')).otherwise(col('correction'))) \\\n",
    "                   .drop('typo', 'correction')\n",
    "\n",
    "# Show corrected DataFrame\n",
    "zoo_corrected.show()\n"
   ]
  },
  {
   "cell_type": "markdown",
   "metadata": {},
   "source": [
    "### Great job! "
   ]
  }
 ],
 "metadata": {
  "kernelspec": {
   "display_name": "Python 3 (ipykernel)",
   "language": "python",
   "name": "python3"
  },
  "language_info": {
   "codemirror_mode": {
    "name": "ipython",
    "version": 3
   },
   "file_extension": ".py",
   "mimetype": "text/x-python",
   "name": "python",
   "nbconvert_exporter": "python",
   "pygments_lexer": "ipython3",
   "version": "3.11.5"
  }
 },
 "nbformat": 4,
 "nbformat_minor": 4
}
