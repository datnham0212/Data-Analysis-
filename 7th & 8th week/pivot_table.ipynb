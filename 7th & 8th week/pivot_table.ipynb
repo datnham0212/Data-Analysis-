{
 "cells": [
  {
   "cell_type": "code",
   "execution_count": 2,
   "id": "fa8790d4-70c2-4aad-90dc-8ec031b5680b",
   "metadata": {
    "tags": []
   },
   "outputs": [],
   "source": [
    "import pyspark\n",
    "from pyspark.sql import SparkSession"
   ]
  },
  {
   "cell_type": "code",
   "execution_count": 3,
   "id": "91b62232-0879-4d2d-96c2-1e73dcb6e860",
   "metadata": {
    "tags": []
   },
   "outputs": [],
   "source": [
    "spark = SparkSession.builder.getOrCreate()"
   ]
  },
  {
   "cell_type": "code",
   "execution_count": 4,
   "id": "cb72d524-580c-4e0a-8eab-b36535a79c1d",
   "metadata": {
    "tags": []
   },
   "outputs": [],
   "source": [
    "records = [(\"SV001\", \"Anh\", \"Toán\", 85), (\"SV001\", \"Anh\", \"Vật Lý\", 90), (\"SV001\", \"Anh\", \"Hóa Học\", 75),\n",
    "          (\"SV002\", \"Bình\", \"Toán\", 78), (\"SV002\", \"Bình\", \"Vật Lý\", 82), (\"SV002\", \"Bình\", \"Hóa Học\", 88),\n",
    "          (\"SV003\", \"Cường\", \"Toán\", 92), (\"SV003\", \"Cường\", \"Vật Lý\", 87), (\"SV003\", \"Cường\", \"Hóa Học\", 94)]"
   ]
  },
  {
   "cell_type": "code",
   "execution_count": 5,
   "id": "14570b6d-b24b-4dcb-af67-36be7b8f43be",
   "metadata": {
    "tags": []
   },
   "outputs": [],
   "source": [
    "rdd = spark.sparkContext.parallelize(records)"
   ]
  },
  {
   "cell_type": "code",
   "execution_count": 6,
   "id": "2488d19d-f11c-4d5e-b8de-c47e78d47b3c",
   "metadata": {
    "tags": []
   },
   "outputs": [],
   "source": [
    "df = rdd.toDF()"
   ]
  },
  {
   "cell_type": "code",
   "execution_count": 7,
   "id": "957df451-63e5-4662-a7b4-2779ce13a39f",
   "metadata": {
    "tags": []
   },
   "outputs": [
    {
     "name": "stdout",
     "output_type": "stream",
     "text": [
      "+-----+------+-------+----+\n",
      "|Mã SV|Tên SV|Môn Học|Điểm|\n",
      "+-----+------+-------+----+\n",
      "|SV001|   Anh|   Toán|  85|\n",
      "|SV001|   Anh| Vật Lý|  90|\n",
      "|SV001|   Anh|Hóa Học|  75|\n",
      "|SV002|  Bình|   Toán|  78|\n",
      "|SV002|  Bình| Vật Lý|  82|\n",
      "|SV002|  Bình|Hóa Học|  88|\n",
      "|SV003| Cường|   Toán|  92|\n",
      "|SV003| Cường| Vật Lý|  87|\n",
      "|SV003| Cường|Hóa Học|  94|\n",
      "+-----+------+-------+----+\n",
      "\n"
     ]
    }
   ],
   "source": [
    "cols = [\"Mã SV\", \"Tên SV\", \"Môn Học\", \"Điểm\"]\n",
    "df = df.toDF(*cols)\n",
    "df.show()"
   ]
  },
  {
   "cell_type": "code",
   "execution_count": 8,
   "id": "f21f8e53-f256-44f0-81d0-88aad818efd5",
   "metadata": {
    "tags": []
   },
   "outputs": [],
   "source": [
    "# df.write.csv('pivotTest.csv') Cái này export ra 1 folder"
   ]
  },
  {
   "cell_type": "code",
   "execution_count": 9,
   "id": "05592deb-18f6-4c11-b645-672cd7c77698",
   "metadata": {
    "tags": []
   },
   "outputs": [],
   "source": [
    "pandasDF = df.toPandas()"
   ]
  },
  {
   "cell_type": "code",
   "execution_count": 10,
   "id": "8e9ac389-9001-462e-a9df-9987f22d2ae6",
   "metadata": {
    "tags": []
   },
   "outputs": [],
   "source": [
    "pandasDF.to_csv('pivotTest.csv', index=False)"
   ]
  },
  {
   "cell_type": "code",
   "execution_count": 11,
   "id": "bab4890c-e2e0-4854-9f6c-ee966772ecc7",
   "metadata": {
    "tags": []
   },
   "outputs": [
    {
     "name": "stdout",
     "output_type": "stream",
     "text": [
      "+-----+-------+----+------+\n",
      "|Mã SV|Hóa Học|Toán|Vật Lý|\n",
      "+-----+-------+----+------+\n",
      "|SV002|     88|  78|    82|\n",
      "|SV003|     94|  92|    87|\n",
      "|SV001|     75|  85|    90|\n",
      "+-----+-------+----+------+\n",
      "\n"
     ]
    }
   ],
   "source": [
    "df.groupBy('Mã SV').pivot('Môn Học').sum('Điểm').show()"
   ]
  },
  {
   "cell_type": "code",
   "execution_count": 12,
   "id": "1c0a1aba-e7a3-44e7-aa2a-28fd382c12ab",
   "metadata": {
    "tags": []
   },
   "outputs": [],
   "source": [
    "records2 = [(\"SP001\", \"Điện Thoại\", 100, \"Hà Nội\"), (\"SP002\", \"Laptop\", 50, \"Hà Nội\"),\n",
    "           (\"SP003\", \"Máy Tính\", 80, \"TPHCM\"), (\"SP001\", \"Điện Thoại\", 120, \"TPHCM\"),\n",
    "           (\"SP002\", \"Laptop\", 70, \"TPHCM\"), (\"SP003\", \"Máy Tính\", 90, \"Hà Nội\")]"
   ]
  },
  {
   "cell_type": "code",
   "execution_count": 13,
   "id": "9c44ef7c-8bce-4105-b7ff-59576d98bc48",
   "metadata": {
    "tags": []
   },
   "outputs": [],
   "source": [
    "rdd2 = spark.sparkContext.parallelize(records2)"
   ]
  },
  {
   "cell_type": "code",
   "execution_count": 14,
   "id": "96a3311b-84a3-4194-a220-361f84b3225d",
   "metadata": {
    "tags": []
   },
   "outputs": [],
   "source": [
    "cols2 = [\"Mã SP\", \"Loại SP\", \"Doanh số\", \"Khu vực\"]"
   ]
  },
  {
   "cell_type": "code",
   "execution_count": 15,
   "id": "042a1259-e608-40f5-84b2-cd40834ee488",
   "metadata": {
    "tags": []
   },
   "outputs": [],
   "source": [
    "df2 = rdd2.toDF().toDF(*cols2)"
   ]
  },
  {
   "cell_type": "code",
   "execution_count": 16,
   "id": "177d4c48-35ee-4248-901f-a8d95412243a",
   "metadata": {
    "tags": []
   },
   "outputs": [
    {
     "name": "stdout",
     "output_type": "stream",
     "text": [
      "+-----+----------+--------+-------+\n",
      "|Mã SP|   Loại SP|Doanh số|Khu vực|\n",
      "+-----+----------+--------+-------+\n",
      "|SP001|Điện Thoại|     100| Hà Nội|\n",
      "|SP002|    Laptop|      50| Hà Nội|\n",
      "|SP003|  Máy Tính|      80|  TPHCM|\n",
      "|SP001|Điện Thoại|     120|  TPHCM|\n",
      "|SP002|    Laptop|      70|  TPHCM|\n",
      "|SP003|  Máy Tính|      90| Hà Nội|\n",
      "+-----+----------+--------+-------+\n",
      "\n"
     ]
    }
   ],
   "source": [
    "df2.show()"
   ]
  },
  {
   "cell_type": "code",
   "execution_count": 17,
   "id": "25a18a6a-2e0f-4bdd-8be0-225eea36ba77",
   "metadata": {
    "tags": []
   },
   "outputs": [
    {
     "name": "stdout",
     "output_type": "stream",
     "text": [
      "+-------+------+--------+----------+\n",
      "|Khu vực|Laptop|Máy Tính|Điện Thoại|\n",
      "+-------+------+--------+----------+\n",
      "|  TPHCM|    70|      80|       120|\n",
      "| Hà Nội|    50|      90|       100|\n",
      "+-------+------+--------+----------+\n",
      "\n"
     ]
    }
   ],
   "source": [
    "df2.groupBy(\"Khu vực\").pivot(\"Loại SP\").sum(\"Doanh số\").show()"
   ]
  },
  {
   "cell_type": "code",
   "execution_count": 19,
   "id": "85070d1b-8ef8-46b6-b10b-3cd8d27890f9",
   "metadata": {},
   "outputs": [],
   "source": [
    "tempdf = df.groupBy('Mã SV').pivot('Môn Học').sum('Điểm')"
   ]
  },
  {
   "cell_type": "code",
   "execution_count": 20,
   "id": "062624c4-31de-40e0-940b-a872a7f27f6a",
   "metadata": {
    "tags": []
   },
   "outputs": [],
   "source": [
    "tempdf2 = df2.groupBy(\"Khu vực\").pivot(\"Loại SP\").sum(\"Doanh số\")"
   ]
  },
  {
   "cell_type": "code",
   "execution_count": 22,
   "id": "e3e72864-b806-446b-b94e-8644a55049f6",
   "metadata": {
    "tags": []
   },
   "outputs": [
    {
     "name": "stdout",
     "output_type": "stream",
     "text": [
      "+-------+------+--------+----------+\n",
      "|Khu vực|Laptop|Máy Tính|Điện Thoại|\n",
      "+-------+------+--------+----------+\n",
      "|  TPHCM|    70|      80|       120|\n",
      "| Hà Nội|    50|      90|       100|\n",
      "|  SV002|    88|      78|        82|\n",
      "|  SV003|    94|      92|        87|\n",
      "|  SV001|    75|      85|        90|\n",
      "+-------+------+--------+----------+\n",
      "\n"
     ]
    }
   ],
   "source": [
    "merged_df = tempdf2.union(tempdf)\n",
    "merged_df.show()"
   ]
  },
  {
   "cell_type": "code",
   "execution_count": 23,
   "id": "cd5d8a80-414c-452d-84b6-4ed727a22950",
   "metadata": {
    "tags": []
   },
   "outputs": [],
   "source": [
    "records3 = [('KH001', 35, 'Nam', 3), ('KH002', 28, 'Nữ', 2), ('KH003', 40, 'Nam', 4)\n",
    "           ,('KH004', 45, 'Nữ', 1), ('KH005', 30, 'Nam', 5),('KH006', 35, 'Nữ', 2)]"
   ]
  },
  {
   "cell_type": "code",
   "execution_count": 24,
   "id": "3902d6e6-a6a2-4a64-8ef5-45742c101161",
   "metadata": {
    "tags": []
   },
   "outputs": [],
   "source": [
    "rdd3 = spark.sparkContext.parallelize(records3)"
   ]
  },
  {
   "cell_type": "code",
   "execution_count": 26,
   "id": "099788a6-6d3e-4878-8f93-b3a13f550ec3",
   "metadata": {
    "tags": []
   },
   "outputs": [],
   "source": [
    "cols3 = (\"Mã khách hàng\", \"Độ tuổi\", \"Giới tính\", \"Số lần mua hàng\")"
   ]
  },
  {
   "cell_type": "code",
   "execution_count": 27,
   "id": "7d761fce-fe87-42a2-94b4-f6a7ae028ea1",
   "metadata": {
    "tags": []
   },
   "outputs": [],
   "source": [
    "df3 = rdd3.toDF().toDF(*cols3)"
   ]
  },
  {
   "cell_type": "code",
   "execution_count": 28,
   "id": "d16d83ec-8a4b-494e-926f-e283da441931",
   "metadata": {
    "tags": []
   },
   "outputs": [
    {
     "name": "stdout",
     "output_type": "stream",
     "text": [
      "+-------------+-------+---------+---------------+\n",
      "|Mã khách hàng|Độ tuổi|Giới tính|Số lần mua hàng|\n",
      "+-------------+-------+---------+---------------+\n",
      "|        KH001|     35|      Nam|              3|\n",
      "|        KH002|     28|       Nữ|              2|\n",
      "|        KH003|     40|      Nam|              4|\n",
      "|        KH004|     45|       Nữ|              1|\n",
      "|        KH005|     30|      Nam|              5|\n",
      "|        KH006|     35|       Nữ|              2|\n",
      "+-------------+-------+---------+---------------+\n",
      "\n"
     ]
    }
   ],
   "source": [
    "df3.show()"
   ]
  },
  {
   "cell_type": "code",
   "execution_count": 37,
   "id": "abdc50e4-6efb-4e44-a466-682233bdc9fb",
   "metadata": {
    "tags": []
   },
   "outputs": [],
   "source": [
    "from datetime import datetime"
   ]
  },
  {
   "cell_type": "code",
   "execution_count": 43,
   "id": "daee6b12-9228-45e6-b48e-b39b67ce3620",
   "metadata": {
    "tags": []
   },
   "outputs": [],
   "source": [
    "records4 = [('DH001', datetime.strptime('2024-03-01', '%Y-%m-%d').date(), 'Điện Thoại', 10)\n",
    "           ,('DH002', datetime.strptime('2024-03-01', '%Y-%m-%d').date(), 'Laptop', 5)\n",
    "           ,('DH003', datetime.strptime('2024-03-02', '%Y-%m-%d').date(), 'Máy tính', 8)\n",
    "           ,('DH004', datetime.strptime('2024-03-03', '%Y-%m-%d').date(), 'Điện Thoại', 12)\n",
    "           ,('DH005', datetime.strptime('2024-03-03', '%Y-%m-%d').date(), 'Laptop', 7)\n",
    "           ,('DH006', datetime.strptime('2024-03-04', '%Y-%m-%d').date(), 'Máy tính', 9)]"
   ]
  },
  {
   "cell_type": "code",
   "execution_count": 44,
   "id": "8fd12cd7-9563-40e9-beed-a743ec7bcf94",
   "metadata": {
    "tags": []
   },
   "outputs": [],
   "source": [
    "cols4 = ('Mã đơn hàng', 'Ngày đặt hàng', 'Sản phẩm', 'Số lượng')"
   ]
  },
  {
   "cell_type": "code",
   "execution_count": 45,
   "id": "23235a0d-13d7-4b83-97a3-d2e3488c98d3",
   "metadata": {
    "tags": []
   },
   "outputs": [],
   "source": [
    "rdd4 = spark.sparkContext.parallelize(records4)"
   ]
  },
  {
   "cell_type": "code",
   "execution_count": 46,
   "id": "e03d5e7a-7dcb-4354-a31a-74afa72268ee",
   "metadata": {
    "tags": []
   },
   "outputs": [],
   "source": [
    "df4 = rdd4.toDF().toDF(*cols4)"
   ]
  },
  {
   "cell_type": "code",
   "execution_count": 47,
   "id": "ae68cb58-17b6-4565-84ca-875c576759ee",
   "metadata": {
    "tags": []
   },
   "outputs": [
    {
     "name": "stdout",
     "output_type": "stream",
     "text": [
      "+-----------+-------------+----------+--------+\n",
      "|Mã đơn hàng|Ngày đặt hàng|  Sản phẩm|Số lượng|\n",
      "+-----------+-------------+----------+--------+\n",
      "|      DH001|   2024-03-01|Điện Thoại|      10|\n",
      "|      DH002|   2024-03-01|    Laptop|       5|\n",
      "|      DH003|   2024-03-02|  Máy tính|       8|\n",
      "|      DH004|   2024-03-03|Điện Thoại|      12|\n",
      "|      DH005|   2024-03-03|    Laptop|       7|\n",
      "|      DH006|   2024-03-04|  Máy tính|       9|\n",
      "+-----------+-------------+----------+--------+\n",
      "\n"
     ]
    }
   ],
   "source": [
    "df4.show()"
   ]
  },
  {
   "cell_type": "code",
   "execution_count": 54,
   "id": "ced5c76a-dc1d-4908-a657-21b3ab45f377",
   "metadata": {
    "tags": []
   },
   "outputs": [],
   "source": [
    "records5 = [('Nguyễn Văn A', 'Kế Toán', datetime.strptime('2020-01-01', '%Y-%m-%d').date(), 800)\n",
    "           ,('Trần Thị B', 'Kinh Doanh', datetime.strptime('2019-05-01', '%Y-%m-%d').date(), 900)\n",
    "           ,('Lê Văn C', 'Kỹ Thuật', datetime.strptime('2021-03-15', '%Y-%m-%d').date(), 1000)\n",
    "           ,('Hoàng Thị D', 'Nhân Sự', datetime.strptime('2022-07-01', '%Y-%m-%d').date(), 850)\n",
    "           ,('Phạm Văn E', 'Marketing', datetime.strptime('2023-02-01', '%Y-%m-%d').date(), 950)\n",
    "           ,('Đồ Thị F', 'Kỹ Thuật', datetime.strptime('2020-10-01', '%Y-%m-%d').date(), 1100)]"
   ]
  },
  {
   "cell_type": "code",
   "execution_count": 55,
   "id": "6d6a3af4-28c6-4a5c-9eb1-f199935cc289",
   "metadata": {
    "tags": []
   },
   "outputs": [],
   "source": [
    "cols5 = ('Tên nhân viên', 'Phòng ban', 'Ngày bắt đầu', 'Lương')"
   ]
  },
  {
   "cell_type": "code",
   "execution_count": 56,
   "id": "c42ba0cf-8c5c-456a-9ba4-bf1f69924e27",
   "metadata": {
    "tags": []
   },
   "outputs": [],
   "source": [
    "rdd5 = spark.sparkContext.parallelize(records5)"
   ]
  },
  {
   "cell_type": "code",
   "execution_count": 57,
   "id": "ca48650c-da06-4edf-a348-6d7e4ac9645e",
   "metadata": {
    "tags": []
   },
   "outputs": [],
   "source": [
    "df5 = rdd5.toDF().toDF(*cols5)"
   ]
  },
  {
   "cell_type": "code",
   "execution_count": 58,
   "id": "857fea2b-d17a-4d4f-899d-15aab60fae34",
   "metadata": {
    "tags": []
   },
   "outputs": [
    {
     "name": "stdout",
     "output_type": "stream",
     "text": [
      "+-------------+----------+------------+-----+\n",
      "|Tên nhân viên| Phòng ban|Ngày bắt đầu|Lương|\n",
      "+-------------+----------+------------+-----+\n",
      "| Nguyễn Văn A|   Kế Toán|  2020-01-01|  800|\n",
      "|   Trần Thị B|Kinh Doanh|  2019-05-01|  900|\n",
      "|     Lê Văn C|  Kỹ Thuật|  2021-03-15| 1000|\n",
      "|  Hoàng Thị D|   Nhân Sự|  2022-07-01|  850|\n",
      "|   Phạm Văn E| Marketing|  2023-02-01|  950|\n",
      "|     Đồ Thị F|  Kỹ Thuật|  2020-10-01| 1100|\n",
      "+-------------+----------+------------+-----+\n",
      "\n"
     ]
    }
   ],
   "source": [
    "df5.show()"
   ]
  },
  {
   "cell_type": "code",
   "execution_count": 60,
   "id": "fe813c8c-6c46-4f55-bcf7-3ab701dad1ad",
   "metadata": {
    "tags": []
   },
   "outputs": [
    {
     "name": "stdout",
     "output_type": "stream",
     "text": [
      "+-------+----+----+\n",
      "|Độ tuổi| Nam|  Nữ|\n",
      "+-------+----+----+\n",
      "|     28|NULL|   2|\n",
      "|     35|   3|   2|\n",
      "|     30|   5|NULL|\n",
      "|     40|   4|NULL|\n",
      "|     45|NULL|   1|\n",
      "+-------+----+----+\n",
      "\n"
     ]
    }
   ],
   "source": [
    "df3.groupBy('Độ tuổi').pivot('Giới tính').sum('Số lần mua hàng').show()"
   ]
  },
  {
   "cell_type": "code",
   "execution_count": 96,
   "id": "51bd99cd-c186-45ef-8f6b-0cb6bd605086",
   "metadata": {
    "tags": []
   },
   "outputs": [],
   "source": [
    "from pyspark.sql.functions import year, dayofweek"
   ]
  },
  {
   "cell_type": "code",
   "execution_count": 97,
   "id": "32ded9bd-1073-4494-81de-dc60ad4b75c2",
   "metadata": {
    "tags": []
   },
   "outputs": [],
   "source": [
    "df4 = df4.withColumn(\"Ngày trong tuần\", dayofweek(\"Ngày đặt hàng\"))"
   ]
  },
  {
   "cell_type": "code",
   "execution_count": 101,
   "id": "9b7337a1-73b6-4b42-8450-a54004f00355",
   "metadata": {
    "tags": []
   },
   "outputs": [
    {
     "name": "stdout",
     "output_type": "stream",
     "text": [
      "+----------+----+----+----+----+\n",
      "|  Sản phẩm|   1|   2|   6|   7|\n",
      "+----------+----+----+----+----+\n",
      "|    Laptop|   7|NULL|   5|NULL|\n",
      "|Điện Thoại|  12|NULL|  10|NULL|\n",
      "|  Máy tính|NULL|   9|NULL|   8|\n",
      "+----------+----+----+----+----+\n",
      "\n"
     ]
    }
   ],
   "source": [
    "df4.groupBy('Sản phẩm').pivot('Ngày trong tuần').sum('Số lượng').show()"
   ]
  },
  {
   "cell_type": "code",
   "execution_count": 99,
   "id": "6cd0d93a-e571-4948-b56b-e4d0b07a3c7f",
   "metadata": {
    "tags": []
   },
   "outputs": [],
   "source": [
    "df5 = df5.withColumn(\"Năm bắt đầu\", year(\"Ngày bắt đầu\"))"
   ]
  },
  {
   "cell_type": "code",
   "execution_count": 100,
   "id": "f88cb540-64e9-49ab-93d6-5366d20506aa",
   "metadata": {
    "tags": []
   },
   "outputs": [
    {
     "name": "stdout",
     "output_type": "stream",
     "text": [
      "+----------+----+----+----+----+----+\n",
      "| Phòng ban|2019|2020|2021|2022|2023|\n",
      "+----------+----+----+----+----+----+\n",
      "|   Nhân Sự|NULL|NULL|NULL| 850|NULL|\n",
      "|  Kỹ Thuật|NULL|1100|1000|NULL|NULL|\n",
      "|Kinh Doanh| 900|NULL|NULL|NULL|NULL|\n",
      "|   Kế Toán|NULL| 800|NULL|NULL|NULL|\n",
      "| Marketing|NULL|NULL|NULL|NULL| 950|\n",
      "+----------+----+----+----+----+----+\n",
      "\n"
     ]
    }
   ],
   "source": [
    "df5.groupBy('Phòng ban').pivot('Năm bắt đầu').sum('Lương').show()"
   ]
  },
  {
   "cell_type": "code",
   "execution_count": null,
   "id": "2c7eb684-b3b3-427a-8936-bcfb2d2a1127",
   "metadata": {},
   "outputs": [],
   "source": []
  }
 ],
 "metadata": {
  "kernelspec": {
   "display_name": "Python 3 (ipykernel)",
   "language": "python",
   "name": "python3"
  },
  "language_info": {
   "codemirror_mode": {
    "name": "ipython",
    "version": 3
   },
   "file_extension": ".py",
   "mimetype": "text/x-python",
   "name": "python",
   "nbconvert_exporter": "python",
   "pygments_lexer": "ipython3",
   "version": "3.11.5"
  }
 },
 "nbformat": 4,
 "nbformat_minor": 5
}
