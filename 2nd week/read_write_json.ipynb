{
 "cells": [
  {
   "cell_type": "code",
   "execution_count": 1,
   "id": "d21d1940-3195-4095-87d0-8d7ee3bd3e7d",
   "metadata": {
    "tags": []
   },
   "outputs": [],
   "source": [
    "import pyspark"
   ]
  },
  {
   "cell_type": "code",
   "execution_count": 2,
   "id": "04241600-f844-484e-bf97-00437aeb29c9",
   "metadata": {
    "tags": []
   },
   "outputs": [],
   "source": [
    "from pyspark.sql import SparkSession"
   ]
  },
  {
   "cell_type": "code",
   "execution_count": 3,
   "id": "cc9441e5-7879-4a49-9fde-c60e9592fdf0",
   "metadata": {
    "tags": []
   },
   "outputs": [],
   "source": [
    "spark = SparkSession.builder.getOrCreate()"
   ]
  },
  {
   "cell_type": "code",
   "execution_count": 4,
   "id": "cbc38e3a-3e9e-4154-88fa-78ecf344e7eb",
   "metadata": {
    "tags": []
   },
   "outputs": [
    {
     "name": "stdout",
     "output_type": "stream",
     "text": [
      "+---------------+--------------------+-------------------+--------------------+-----------------+--------------------+--------------------+\n",
      "|_corrupt_record|                city|         creditcard|               email|              mac|                name|           timestamp|\n",
      "+---------------+--------------------+-------------------+--------------------+-----------------+--------------------+--------------------+\n",
      "|              [|                NULL|               NULL|                NULL|             NULL|                NULL|                NULL|\n",
      "|           NULL|     Lake Gladysberg|1228-1221-1221-1431|katlyn@jenkinsmag...|08:fd:0b:cd:77:f7|        Keeley Bosco|2015-04-25 13:57:...|\n",
      "|           NULL|                NULL|1228-1221-1221-1431|juvenal@johnston....|90:4d:fa:42:63:a2|         Rubye Jerde|2015-04-25 09:02:...|\n",
      "|           NULL|                NULL|               NULL|                NULL|f9:0e:d3:40:cb:e9|Miss Darian Breit...|2015-04-25 13:16:...|\n",
      "|           NULL|                NULL|1228-1221-1221-1431|emery_kunze@rogah...|3a:af:c9:0b:5c:08|    Celine Ankunding|2015-04-25 14:22:...|\n",
      "|           NULL|         Yvettemouth|1211-1221-1234-2201|mavis_lehner@jaco...|9e:ea:28:41:2a:50|    Dr. Araceli Lang|2015-04-25 21:02:...|\n",
      "|           NULL|                NULL|               NULL|                NULL|2d:e4:f0:dd:90:96|         Esteban Von|2015-04-25 21:47:...|\n",
      "|           NULL|                NULL|               NULL|gielle_jacobs@fla...|29:e0:54:7a:b7:ca|      Everette Swift|2015-04-25 01:42:...|\n",
      "|           NULL|     Port Reaganfort|1228-1221-1221-1431|augustine.conroy@...|c5:32:09:5a:f7:15|       Terrell Boyle|2015-04-25 23:03:...|\n",
      "|           NULL|          Kaleyhaven|               NULL|                NULL|be:dc:d2:57:81:8b|   Miss Emmie Muller|2015-04-25 15:48:...|\n",
      "|           NULL|      Port Reneeside|1234-2121-1221-1211|                NULL|9c:63:13:31:c4:ac|        Libby Renner|2015-04-25 08:21:...|\n",
      "|           NULL|                NULL|               NULL|                NULL|f9:8a:01:69:aa:63|        Kris Spencer|2015-04-25 18:49:...|\n",
      "|           NULL|                NULL|               NULL|prince@rosenbaum....|fd:b7:2a:2e:97:8f|   Terrance Schiller|2015-04-25 02:25:...|\n",
      "|           NULL|         South Pearl|1234-2121-1221-1211|sigurd.hudson@hod...|1e:44:17:8c:c6:d8|   Alessandro Barton|2015-04-25 11:21:...|\n",
      "|           NULL|                NULL|1211-1221-1234-2201|   monica@abbott.org|bf:2a:a2:75:a4:38|      Dr. Art Grimes|2015-04-25 22:51:...|\n",
      "|           NULL|Port Marjolaineshire|1211-1221-1234-2201|carter_zboncak@sc...|cd:a7:57:c0:03:50|         Keven Purdy|2015-04-25 10:13:...|\n",
      "|           NULL|          Rogelioton|               NULL|     adonis@dach.net|9a:6e:08:fe:8d:41|  William Wisozk DVM|2015-04-25 20:57:...|\n",
      "|           NULL|       South Chelsie|1212-1221-1121-1234|laurianne_goldner...|9e:60:32:9f:88:9d|           Oma Grady|2015-04-25 04:08:...|\n",
      "|           NULL|         Marvinville|               NULL|blanca_smitham@pf...|f0:45:37:1b:d8:19|   Annie Schamberger|2015-04-25 10:28:...|\n",
      "|           NULL|                NULL|1211-1221-1234-2201|mittie.ullrich@bo...|13:36:6a:b4:2d:07|      Jazmin Kovacek|2015-04-25 19:20:...|\n",
      "+---------------+--------------------+-------------------+--------------------+-----------------+--------------------+--------------------+\n",
      "only showing top 20 rows\n",
      "\n"
     ]
    }
   ],
   "source": [
    "df = spark.read.json('people.json')\n",
    "df.show()"
   ]
  },
  {
   "cell_type": "code",
   "execution_count": 5,
   "id": "bc526d19-e6c1-4f68-ba7c-2ae086924a9e",
   "metadata": {
    "tags": []
   },
   "outputs": [
    {
     "data": {
      "text/html": [
       "<div>\n",
       "<style scoped>\n",
       "    .dataframe tbody tr th:only-of-type {\n",
       "        vertical-align: middle;\n",
       "    }\n",
       "\n",
       "    .dataframe tbody tr th {\n",
       "        vertical-align: top;\n",
       "    }\n",
       "\n",
       "    .dataframe thead th {\n",
       "        text-align: right;\n",
       "    }\n",
       "</style>\n",
       "<table border=\"1\" class=\"dataframe\">\n",
       "  <thead>\n",
       "    <tr style=\"text-align: right;\">\n",
       "      <th></th>\n",
       "      <th>name</th>\n",
       "      <th>email</th>\n",
       "      <th>city</th>\n",
       "      <th>mac</th>\n",
       "      <th>timestamp</th>\n",
       "      <th>creditcard</th>\n",
       "    </tr>\n",
       "  </thead>\n",
       "  <tbody>\n",
       "    <tr>\n",
       "      <th>0</th>\n",
       "      <td>Keeley Bosco</td>\n",
       "      <td>katlyn@jenkinsmaggio.net</td>\n",
       "      <td>Lake Gladysberg</td>\n",
       "      <td>08:fd:0b:cd:77:f7</td>\n",
       "      <td>2015-04-25 13:57:36+07:00</td>\n",
       "      <td>1228-1221-1221-1431</td>\n",
       "    </tr>\n",
       "    <tr>\n",
       "      <th>1</th>\n",
       "      <td>Rubye Jerde</td>\n",
       "      <td>juvenal@johnston.name</td>\n",
       "      <td>None</td>\n",
       "      <td>90:4d:fa:42:63:a2</td>\n",
       "      <td>2015-04-25 09:02:04+07:00</td>\n",
       "      <td>1228-1221-1221-1431</td>\n",
       "    </tr>\n",
       "    <tr>\n",
       "      <th>2</th>\n",
       "      <td>Miss Darian Breitenberg</td>\n",
       "      <td>None</td>\n",
       "      <td>None</td>\n",
       "      <td>f9:0e:d3:40:cb:e9</td>\n",
       "      <td>2015-04-25 13:16:03+07:00</td>\n",
       "      <td>None</td>\n",
       "    </tr>\n",
       "    <tr>\n",
       "      <th>3</th>\n",
       "      <td>Celine Ankunding</td>\n",
       "      <td>emery_kunze@rogahn.net</td>\n",
       "      <td>None</td>\n",
       "      <td>3a:af:c9:0b:5c:08</td>\n",
       "      <td>2015-04-25 14:22:22+07:00</td>\n",
       "      <td>1228-1221-1221-1431</td>\n",
       "    </tr>\n",
       "    <tr>\n",
       "      <th>4</th>\n",
       "      <td>Dr. Araceli Lang</td>\n",
       "      <td>mavis_lehner@jacobi.name</td>\n",
       "      <td>Yvettemouth</td>\n",
       "      <td>9e:ea:28:41:2a:50</td>\n",
       "      <td>2015-04-25 21:02:11+07:00</td>\n",
       "      <td>1211-1221-1234-2201</td>\n",
       "    </tr>\n",
       "    <tr>\n",
       "      <th>...</th>\n",
       "      <td>...</td>\n",
       "      <td>...</td>\n",
       "      <td>...</td>\n",
       "      <td>...</td>\n",
       "      <td>...</td>\n",
       "      <td>...</td>\n",
       "    </tr>\n",
       "    <tr>\n",
       "      <th>9995</th>\n",
       "      <td>Jaqueline Walter I</td>\n",
       "      <td>payton@glover.biz</td>\n",
       "      <td>None</td>\n",
       "      <td>94:45:e0:51:36:7f</td>\n",
       "      <td>2015-04-25 15:21:00+07:00</td>\n",
       "      <td>None</td>\n",
       "    </tr>\n",
       "    <tr>\n",
       "      <th>9996</th>\n",
       "      <td>Isobel Reinger</td>\n",
       "      <td>deven@leuschke.org</td>\n",
       "      <td>None</td>\n",
       "      <td>65:70:d3:6d:7c:f1</td>\n",
       "      <td>2015-04-25 16:29:09+07:00</td>\n",
       "      <td>1228-1221-1221-1431</td>\n",
       "    </tr>\n",
       "    <tr>\n",
       "      <th>9997</th>\n",
       "      <td>Chelsea Shields</td>\n",
       "      <td>None</td>\n",
       "      <td>None</td>\n",
       "      <td>44:1b:7d:5e:c4:da</td>\n",
       "      <td>2015-04-25 15:46:44+07:00</td>\n",
       "      <td>1211-1221-1234-2201</td>\n",
       "    </tr>\n",
       "    <tr>\n",
       "      <th>9998</th>\n",
       "      <td>Luciano Gutmann</td>\n",
       "      <td>lindsey_kuvalis@lesch.name</td>\n",
       "      <td>None</td>\n",
       "      <td>c3:03:c2:65:13:fa</td>\n",
       "      <td>2015-04-25 08:37:19+07:00</td>\n",
       "      <td>1234-2121-1221-1211</td>\n",
       "    </tr>\n",
       "    <tr>\n",
       "      <th>9999</th>\n",
       "      <td>Austin Langworth</td>\n",
       "      <td>alexys@wilkinsongrady.com</td>\n",
       "      <td>None</td>\n",
       "      <td>f5:43:f0:3f:8c:36</td>\n",
       "      <td>2015-04-25 12:58:27+07:00</td>\n",
       "      <td>1212-1221-1121-1234</td>\n",
       "    </tr>\n",
       "  </tbody>\n",
       "</table>\n",
       "<p>10000 rows × 6 columns</p>\n",
       "</div>"
      ],
      "text/plain": [
       "                         name                       email             city  \\\n",
       "0                Keeley Bosco    katlyn@jenkinsmaggio.net  Lake Gladysberg   \n",
       "1                 Rubye Jerde       juvenal@johnston.name             None   \n",
       "2     Miss Darian Breitenberg                        None             None   \n",
       "3            Celine Ankunding      emery_kunze@rogahn.net             None   \n",
       "4            Dr. Araceli Lang    mavis_lehner@jacobi.name      Yvettemouth   \n",
       "...                       ...                         ...              ...   \n",
       "9995       Jaqueline Walter I           payton@glover.biz             None   \n",
       "9996           Isobel Reinger          deven@leuschke.org             None   \n",
       "9997          Chelsea Shields                        None             None   \n",
       "9998          Luciano Gutmann  lindsey_kuvalis@lesch.name             None   \n",
       "9999         Austin Langworth   alexys@wilkinsongrady.com             None   \n",
       "\n",
       "                    mac                 timestamp           creditcard  \n",
       "0     08:fd:0b:cd:77:f7 2015-04-25 13:57:36+07:00  1228-1221-1221-1431  \n",
       "1     90:4d:fa:42:63:a2 2015-04-25 09:02:04+07:00  1228-1221-1221-1431  \n",
       "2     f9:0e:d3:40:cb:e9 2015-04-25 13:16:03+07:00                 None  \n",
       "3     3a:af:c9:0b:5c:08 2015-04-25 14:22:22+07:00  1228-1221-1221-1431  \n",
       "4     9e:ea:28:41:2a:50 2015-04-25 21:02:11+07:00  1211-1221-1234-2201  \n",
       "...                 ...                       ...                  ...  \n",
       "9995  94:45:e0:51:36:7f 2015-04-25 15:21:00+07:00                 None  \n",
       "9996  65:70:d3:6d:7c:f1 2015-04-25 16:29:09+07:00  1228-1221-1221-1431  \n",
       "9997  44:1b:7d:5e:c4:da 2015-04-25 15:46:44+07:00  1211-1221-1234-2201  \n",
       "9998  c3:03:c2:65:13:fa 2015-04-25 08:37:19+07:00  1234-2121-1221-1211  \n",
       "9999  f5:43:f0:3f:8c:36 2015-04-25 12:58:27+07:00  1212-1221-1121-1234  \n",
       "\n",
       "[10000 rows x 6 columns]"
      ]
     },
     "execution_count": 5,
     "metadata": {},
     "output_type": "execute_result"
    }
   ],
   "source": [
    "import pandas as pd\n",
    "pd.read_json('people.json')"
   ]
  },
  {
   "cell_type": "code",
   "execution_count": 6,
   "id": "578ad87d-d84c-42e7-b94e-a2355ea93329",
   "metadata": {
    "tags": []
   },
   "outputs": [],
   "source": [
    "from pyspark.sql.types import StructField\n",
    "from pyspark.sql.types import StringType, DateType, StructType"
   ]
  },
  {
   "cell_type": "code",
   "execution_count": 7,
   "id": "29c9aac2-0786-4005-994c-a2f6aef44736",
   "metadata": {
    "tags": []
   },
   "outputs": [],
   "source": [
    "data_schema = [StructField(\"name\", StringType(), True), StructField(\"timestamp\", DateType(), True)]"
   ]
  },
  {
   "cell_type": "code",
   "execution_count": 8,
   "id": "b8a33dec-6342-493d-98d1-d2b46a35d62b",
   "metadata": {
    "tags": []
   },
   "outputs": [],
   "source": [
    "data_struct = StructType(fields = data_schema)"
   ]
  },
  {
   "cell_type": "code",
   "execution_count": 9,
   "id": "408841ee-d8d3-4618-933f-a87e2a7af84f",
   "metadata": {
    "tags": []
   },
   "outputs": [],
   "source": [
    "new_df = spark.read.json('people.json', schema = data_struct)"
   ]
  },
  {
   "cell_type": "code",
   "execution_count": 10,
   "id": "c1886e0a-15dc-4f66-bf43-689017e2400c",
   "metadata": {
    "tags": []
   },
   "outputs": [
    {
     "name": "stdout",
     "output_type": "stream",
     "text": [
      "root\n",
      " |-- name: string (nullable = true)\n",
      " |-- timestamp: date (nullable = true)\n",
      "\n"
     ]
    }
   ],
   "source": [
    "new_df.printSchema()"
   ]
  },
  {
   "cell_type": "code",
   "execution_count": 15,
   "id": "92b7e033-6667-4f2a-ae69-071393c92b60",
   "metadata": {
    "tags": []
   },
   "outputs": [],
   "source": [
    "df.write.mode(\"overwrite\").csv(\"people.csv\")"
   ]
  },
  {
   "cell_type": "code",
   "execution_count": 4,
   "id": "ece13706-4876-43ee-863b-f5c1244d47cb",
   "metadata": {
    "tags": []
   },
   "outputs": [
    {
     "name": "stdout",
     "output_type": "stream",
     "text": [
      "+-------+--------+\n",
      "|product|quantity|\n",
      "+-------+--------+\n",
      "|      A|      10|\n",
      "|      B|      30|\n",
      "|      C|      50|\n",
      "+-------+--------+\n",
      "\n"
     ]
    }
   ],
   "source": [
    "spark2 = SparkSession.builder.getOrCreate()\n",
    "values = [('A', 10), ('B', 30), ('C', 50)]\n",
    "sales = spark2.createDataFrame(values,['product', 'quantity'])\n",
    "sales.show()"
   ]
  },
  {
   "cell_type": "code",
   "execution_count": null,
   "id": "2ec1b7b6-f4a7-4020-89a9-9783420f4931",
   "metadata": {},
   "outputs": [],
   "source": []
  }
 ],
 "metadata": {
  "kernelspec": {
   "display_name": "Python 3 (ipykernel)",
   "language": "python",
   "name": "python3"
  },
  "language_info": {
   "codemirror_mode": {
    "name": "ipython",
    "version": 3
   },
   "file_extension": ".py",
   "mimetype": "text/x-python",
   "name": "python",
   "nbconvert_exporter": "python",
   "pygments_lexer": "ipython3",
   "version": "3.11.5"
  }
 },
 "nbformat": 4,
 "nbformat_minor": 5
}
