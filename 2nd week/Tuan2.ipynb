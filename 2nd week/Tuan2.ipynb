{
 "cells": [
  {
   "cell_type": "code",
   "execution_count": null,
   "id": "486a2880-99a0-4ade-9fbb-16b850a324e7",
   "metadata": {},
   "outputs": [],
   "source": [
    "import pyspark"
   ]
  },
  {
   "cell_type": "code",
   "execution_count": 3,
   "id": "66963717-c82c-4f10-8c7e-eea29802169c",
   "metadata": {
    "tags": []
   },
   "outputs": [],
   "source": [
    "from pyspark.sql import SparkSession\n",
    "spark = SparkSession.builder.getOrCreate()\n",
    "df = spark.read.csv('students.csv', inferSchema=True)"
   ]
  },
  {
   "cell_type": "code",
   "execution_count": 4,
   "id": "8e1abf7e-5570-45bc-a65e-5f2ff7fee1a1",
   "metadata": {
    "tags": []
   },
   "outputs": [
    {
     "name": "stdout",
     "output_type": "stream",
     "text": [
      "+------+--------------+--------------------+------------+--------------------+----------+-------------+-------------+\n",
      "|   _c0|           _c1|                 _c2|         _c3|                 _c4|       _c5|          _c6|          _c7|\n",
      "+------+--------------+--------------------+------------+--------------------+----------+-------------+-------------+\n",
      "|gender|race/ethnicity|parental level of...|       lunch|test preparation ...|math score|reading score|writing score|\n",
      "|female|       group B|   bachelor's degree|    standard|                none|        72|           72|           74|\n",
      "|female|       group C|        some college|    standard|           completed|        69|           90|           88|\n",
      "|female|       group B|     master's degree|    standard|                none|        90|           95|           93|\n",
      "|  male|       group A|  associate's degree|free/reduced|                none|        47|           57|           44|\n",
      "|  male|       group C|        some college|    standard|                none|        76|           78|           75|\n",
      "|female|       group B|  associate's degree|    standard|                none|        71|           83|           78|\n",
      "|female|       group B|        some college|    standard|           completed|        88|           95|           92|\n",
      "|  male|       group B|        some college|free/reduced|                none|        40|           43|           39|\n",
      "|  male|       group D|         high school|free/reduced|           completed|        64|           64|           67|\n",
      "|female|       group B|         high school|free/reduced|                none|        38|           60|           50|\n",
      "|  male|       group C|  associate's degree|    standard|                none|        58|           54|           52|\n",
      "|  male|       group D|  associate's degree|    standard|                none|        40|           52|           43|\n",
      "|female|       group B|         high school|    standard|                none|        65|           81|           73|\n",
      "|  male|       group A|        some college|    standard|           completed|        78|           72|           70|\n",
      "|female|       group A|     master's degree|    standard|                none|        50|           53|           58|\n",
      "|female|       group C|    some high school|    standard|                none|        69|           75|           78|\n",
      "|  male|       group C|         high school|    standard|                none|        88|           89|           86|\n",
      "|female|       group B|    some high school|free/reduced|                none|        18|           32|           28|\n",
      "|  male|       group C|     master's degree|free/reduced|           completed|        46|           42|           46|\n",
      "+------+--------------+--------------------+------------+--------------------+----------+-------------+-------------+\n",
      "only showing top 20 rows\n",
      "\n"
     ]
    }
   ],
   "source": [
    "df.show()"
   ]
  },
  {
   "cell_type": "code",
   "execution_count": 12,
   "id": "e60c09c2-fc6d-4361-9559-3372fbfe72aa",
   "metadata": {
    "tags": []
   },
   "outputs": [
    {
     "name": "stdout",
     "output_type": "stream",
     "text": [
      "<class 'pyspark.sql.dataframe.DataFrame'>\n",
      "<class 'pandas.core.frame.DataFrame'>\n"
     ]
    }
   ],
   "source": [
    "#Validate datas\n",
    "df.limit(5).toPandas()\n",
    "print(type(df))\n",
    "df_Pandas = df.toPandas()\n",
    "print(type(df_Pandas))"
   ]
  },
  {
   "cell_type": "code",
   "execution_count": 13,
   "id": "f85594ed-6202-41b3-b613-7cf1b3a71bc9",
   "metadata": {
    "tags": []
   },
   "outputs": [
    {
     "name": "stdout",
     "output_type": "stream",
     "text": [
      "['_c0', '_c1', '_c2', '_c3', '_c4', '_c5', '_c6', '_c7']\n"
     ]
    }
   ],
   "source": [
    "print(df.columns)"
   ]
  },
  {
   "cell_type": "code",
   "execution_count": 26,
   "id": "328c90b7-f774-4faa-bf7c-921a448a5f54",
   "metadata": {
    "tags": []
   },
   "outputs": [
    {
     "data": {
      "text/plain": [
       "DataFrame[summary: string, _c0: string, _c1: string, _c2: string, _c3: string, _c4: string, _c5: string, _c6: string, _c7: string]"
      ]
     },
     "execution_count": 26,
     "metadata": {},
     "output_type": "execute_result"
    }
   ],
   "source": [
    "# print(df.describe())\n",
    "df.describe()"
   ]
  },
  {
   "cell_type": "code",
   "execution_count": 27,
   "id": "7f2941a3-6d87-4e2c-8b69-ad740a33baf9",
   "metadata": {
    "tags": []
   },
   "outputs": [
    {
     "name": "stdout",
     "output_type": "stream",
     "text": [
      "+-------+------------------+\n",
      "|summary|               _c5|\n",
      "+-------+------------------+\n",
      "|  count|              1001|\n",
      "|   mean|            66.089|\n",
      "| stddev|15.163080096009454|\n",
      "|    min|                 0|\n",
      "|    max|        math score|\n",
      "+-------+------------------+\n",
      "\n"
     ]
    }
   ],
   "source": [
    "df.describe(['_c5']).show()"
   ]
  },
  {
   "cell_type": "code",
   "execution_count": 35,
   "id": "99a678b5-5166-407c-a077-317895da5825",
   "metadata": {
    "tags": []
   },
   "outputs": [
    {
     "name": "stdout",
     "output_type": "stream",
     "text": [
      "+-------+----+----+----+\n",
      "|summary| _c5| _c6| _c7|\n",
      "+-------+----+----+----+\n",
      "|    25%|57.0|59.0|57.0|\n",
      "|    50%|66.0|70.0|69.0|\n",
      "|    75%|77.0|79.0|79.0|\n",
      "+-------+----+----+----+\n",
      "\n"
     ]
    }
   ],
   "source": [
    "df.select(\"_c5\", \"_c6\", \"_c7\").summary(\"25%\",\"50%\",\"75%\").show()"
   ]
  },
  {
   "cell_type": "code",
   "execution_count": null,
   "id": "20ecbd72-fbe5-497e-8e30-fd25dc9615d6",
   "metadata": {},
   "outputs": [],
   "source": []
  }
 ],
 "metadata": {
  "kernelspec": {
   "display_name": "Python 3 (ipykernel)",
   "language": "python",
   "name": "python3"
  },
  "language_info": {
   "codemirror_mode": {
    "name": "ipython",
    "version": 3
   },
   "file_extension": ".py",
   "mimetype": "text/x-python",
   "name": "python",
   "nbconvert_exporter": "python",
   "pygments_lexer": "ipython3",
   "version": "3.11.5"
  }
 },
 "nbformat": 4,
 "nbformat_minor": 5
}
