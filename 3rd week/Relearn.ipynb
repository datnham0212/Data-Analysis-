{
 "cells": [
  {
   "cell_type": "code",
   "execution_count": 2,
   "id": "cca85e8a-bd0f-46c1-8962-d4ed273d74fd",
   "metadata": {
    "tags": []
   },
   "outputs": [],
   "source": [
    "import findspark\n",
    "findspark.init()"
   ]
  },
  {
   "cell_type": "code",
   "execution_count": 3,
   "id": "b043394e-ac57-4c7c-8a0e-96d111e291df",
   "metadata": {
    "tags": []
   },
   "outputs": [],
   "source": [
    "import pyspark"
   ]
  },
  {
   "cell_type": "code",
   "execution_count": 4,
   "id": "f6b0259c-3b46-494b-a228-2db58e7e2359",
   "metadata": {
    "tags": []
   },
   "outputs": [],
   "source": [
    "from pyspark.sql import SparkSession"
   ]
  },
  {
   "cell_type": "code",
   "execution_count": 4,
   "id": "570ddfaa-ba41-46a8-be3b-698c5c6c8962",
   "metadata": {
    "tags": []
   },
   "outputs": [],
   "source": [
    "from pyspark.sql.functions import concat_ws"
   ]
  },
  {
   "cell_type": "code",
   "execution_count": 5,
   "id": "0636ad55-1ebf-42e2-9d25-c3d35695bd72",
   "metadata": {
    "tags": []
   },
   "outputs": [],
   "source": [
    "spark = SparkSession.builder.appName('Test').getOrCreate()"
   ]
  },
  {
   "cell_type": "code",
   "execution_count": 6,
   "id": "e5547b62-31ce-485d-94c9-f3ea962e7152",
   "metadata": {
    "tags": []
   },
   "outputs": [],
   "source": [
    "columns = [\"first_name\", \"last_name\"]\n",
    "data = [[\"Tran\", \"Binh\"], [\"Pham\", \"Nguyen\"], [\"Le\", \"Ly\"], [\"Hoang\", \"Ha\"]]"
   ]
  },
  {
   "cell_type": "code",
   "execution_count": 7,
   "id": "499d1ece-3b09-4777-90b9-7dba95619842",
   "metadata": {
    "tags": []
   },
   "outputs": [],
   "source": [
    "# rdd = spark.sparkContext.parallelize(data)\n",
    "df = spark.createDataFrame(data, columns)"
   ]
  },
  {
   "cell_type": "code",
   "execution_count": 8,
   "id": "4c2c5d0a-da9d-43fc-af68-2027e07c5aeb",
   "metadata": {
    "tags": []
   },
   "outputs": [
    {
     "name": "stdout",
     "output_type": "stream",
     "text": [
      "+----------+---------+\n",
      "|first_name|last_name|\n",
      "+----------+---------+\n",
      "|      Tran|     Binh|\n",
      "|      Pham|   Nguyen|\n",
      "|        Le|       Ly|\n",
      "|     Hoang|       Ha|\n",
      "+----------+---------+\n",
      "\n"
     ]
    }
   ],
   "source": [
    "df.show()"
   ]
  },
  {
   "cell_type": "code",
   "execution_count": 9,
   "id": "214ff9e1-ccdd-427b-8086-671c95800752",
   "metadata": {},
   "outputs": [],
   "source": [
    "names = df.select(df.first_name, df.last_name)"
   ]
  },
  {
   "cell_type": "code",
   "execution_count": 10,
   "id": "836da199-2f2c-422b-844a-0a7f76e0ef31",
   "metadata": {
    "tags": []
   },
   "outputs": [
    {
     "name": "stdout",
     "output_type": "stream",
     "text": [
      "DataFrame[first_name: string, last_name: string]\n"
     ]
    }
   ],
   "source": [
    "print(names)"
   ]
  },
  {
   "cell_type": "code",
   "execution_count": 11,
   "id": "768d6137-26e6-47fc-8c68-29efdf2ca8be",
   "metadata": {
    "tags": []
   },
   "outputs": [
    {
     "name": "stdout",
     "output_type": "stream",
     "text": [
      "+----------+---------+\n",
      "|first_name|last_name|\n",
      "+----------+---------+\n",
      "|      Tran|     Binh|\n",
      "|      Pham|   Nguyen|\n",
      "|        Le|       Ly|\n",
      "|     Hoang|       Ha|\n",
      "+----------+---------+\n",
      "\n"
     ]
    }
   ],
   "source": [
    "names.show()"
   ]
  },
  {
   "cell_type": "code",
   "execution_count": 12,
   "id": "a4b79c43-39ca-4e7e-875d-e84c5e411e71",
   "metadata": {
    "tags": []
   },
   "outputs": [],
   "source": [
    "new_df = df.select(concat_ws(\" \",df.first_name,df.last_name).alias(\"full_name\"))"
   ]
  },
  {
   "cell_type": "code",
   "execution_count": 13,
   "id": "b70c6188-acee-444a-9e2f-919352875ff3",
   "metadata": {
    "tags": []
   },
   "outputs": [
    {
     "name": "stdout",
     "output_type": "stream",
     "text": [
      "+-----------+\n",
      "|  full_name|\n",
      "+-----------+\n",
      "|  Tran Binh|\n",
      "|Pham Nguyen|\n",
      "|      Le Ly|\n",
      "|   Hoang Ha|\n",
      "+-----------+\n",
      "\n"
     ]
    }
   ],
   "source": [
    "new_df.show()"
   ]
  },
  {
   "cell_type": "code",
   "execution_count": 5,
   "id": "20edc1dd-ffdb-472d-87b1-f60c3d5f9aa3",
   "metadata": {},
   "outputs": [],
   "source": [
    "spark2 = SparkSession.builder.getOrCreate()\n",
    "values = [('A', 10), ('B', 30), ('C', 50)]\n",
    "sales = spark2.createDataFrame(values,['product', 'quantity'])"
   ]
  },
  {
   "cell_type": "code",
   "execution_count": 6,
   "id": "a934095f-7471-4fed-9905-7befc648f231",
   "metadata": {
    "tags": []
   },
   "outputs": [
    {
     "name": "stdout",
     "output_type": "stream",
     "text": [
      "+-------+--------+\n",
      "|product|quantity|\n",
      "+-------+--------+\n",
      "|      A|      10|\n",
      "|      B|      30|\n",
      "|      C|      50|\n",
      "+-------+--------+\n",
      "\n"
     ]
    }
   ],
   "source": [
    "sales.show()"
   ]
  },
  {
   "cell_type": "code",
   "execution_count": null,
   "id": "f05c35aa-73f2-4857-8c97-b9a8d9355368",
   "metadata": {},
   "outputs": [],
   "source": []
  }
 ],
 "metadata": {
  "kernelspec": {
   "display_name": "Python 3 (ipykernel)",
   "language": "python",
   "name": "python3"
  },
  "language_info": {
   "codemirror_mode": {
    "name": "ipython",
    "version": 3
   },
   "file_extension": ".py",
   "mimetype": "text/x-python",
   "name": "python",
   "nbconvert_exporter": "python",
   "pygments_lexer": "ipython3",
   "version": "3.11.5"
  }
 },
 "nbformat": 4,
 "nbformat_minor": 5
}
